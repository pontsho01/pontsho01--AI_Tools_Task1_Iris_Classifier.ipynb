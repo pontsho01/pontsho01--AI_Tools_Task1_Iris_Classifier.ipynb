{
  "nbformat": 4,
  "nbformat_minor": 0,
  "metadata": {
    "colab": {
      "provenance": []
    },
    "kernelspec": {
      "name": "python3",
      "display_name": "Python 3"
    },
    "language_info": {
      "name": "python"
    }
  },
  "cells": [
    {
      "cell_type": "code",
      "execution_count": null,
      "metadata": {
        "id": "8JcYCj7KiikK"
      },
      "outputs": [],
      "source": [
        "# 📌 Task 3: spaCy - Named Entity Recognition (NER) + Rule-Based Sentiment\n",
        "\n",
        "# Step 1: Install and load spaCy\n",
        "!pip install spacy\n",
        "!python -m spacy download en_core_web_sm\n",
        "\n",
        "import spacy\n",
        "from textblob import TextBlob\n",
        "import pandas as pd\n",
        "\n",
        "# Step 2: Load spaCy English model\n",
        "nlp = spacy.load(\"en_core_web_sm\")\n",
        "\n",
        "# Step 3: Sample product reviews (you can add more)\n",
        "reviews = [\n",
        "    \"I love the Apple iPhone 14 Pro, it’s super fast and has great battery life!\",\n",
        "    \"The Samsung Galaxy S22 is overpriced and laggy.\",\n",
        "    \"I received the Sony headphones and they are amazing!\",\n",
        "    \"Worst product ever! The Dell laptop broke after one week.\",\n",
        "    \"Amazon Kindle is lightweight and perfect for travel.\"\n",
        "]\n",
        "\n",
        "# Step 4: Named Entity Recognition (NER)\n",
        "print(\"🧠 Named Entities Detected:\\n\")\n",
        "for review in reviews:\n",
        "    doc = nlp(review)\n",
        "    print(f\"\\n🔹 Review: {review}\")\n",
        "    for ent in doc.ents:\n",
        "        print(f\" - {ent.text} ({ent.label_})\")\n",
        "\n",
        "# Step 5: Rule-Based Sentiment Analysis using TextBlob\n",
        "!pip install textblob\n",
        "\n",
        "print(\"\\n🗣️ Sentiment Analysis:\\n\")\n",
        "sentiment_results = []\n",
        "for review in reviews:\n",
        "    blob = TextBlob(review)\n",
        "    sentiment = \"Positive\" if blob.sentiment.polarity > 0 else \"Negative\" if blob.sentiment.polarity < 0 else \"Neutral\"\n",
        "    sentiment_results.append({\"Review\": review, \"Polarity\": blob.sentiment.polarity, \"Sentiment\": sentiment})\n",
        "\n",
        "# Step 6: Display results in a table\n",
        "df = pd.DataFrame(sentiment_results)\n",
        "df\n"
      ]
    }
  ]
}